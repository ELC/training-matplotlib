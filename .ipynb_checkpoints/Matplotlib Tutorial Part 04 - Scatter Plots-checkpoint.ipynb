{
 "cells": [
  {
   "cell_type": "markdown",
   "metadata": {
    "deletable": true,
    "editable": true
   },
   "source": [
    "<div style='text-align:center' >\n",
    "    <h1>\n",
    "        Scatter Plots\n",
    "    </h1>\n",
    "    <h3>\n",
    "        [Source](https://www.youtube.com/watch?v=WbTOutpwPHs)\n",
    "    </h3>\n",
    "</div>\n",
    "\n",
    "<h2><div style=\"float:left; text-align:left; width:*;line-height: 150%\">\n",
    "Previous Part:<br>[Bar Charts and Histograms](Matplotlib Tutorial Part 03 - Bar Charts and Histograms.ipynb)\n",
    "</div> \n",
    "<div style=\"float:right; text-align:right; width:*;line-height: 150%\">\n",
    "Next Part:<br>[Stack Plots](Matplotlib Tutorial Part 05 - Stack Plots.ipynb)\n",
    "</div>\n",
    "<div style='margin: 0 auto; text-align:center; width:190px;line-height: 150%' >\n",
    "[Table of Contents](Table of Contents.ipynb)\n",
    "</div></h2>"
   ]
  },
  {
   "cell_type": "code",
   "execution_count": 1,
   "metadata": {
    "collapsed": true,
    "deletable": true,
    "editable": true
   },
   "outputs": [],
   "source": [
    "%matplotlib inline\n",
    "import matplotlib.pyplot as plt\n",
    "from random import randint"
   ]
  },
  {
   "cell_type": "markdown",
   "metadata": {
    "deletable": true,
    "editable": true
   },
   "source": [
    "## Data Generations Function"
   ]
  },
  {
   "cell_type": "code",
   "execution_count": 2,
   "metadata": {
    "collapsed": true,
    "deletable": true,
    "editable": true
   },
   "outputs": [],
   "source": [
    "def generate_data(x=10,ran=9):\n",
    "    raw = (randint(0,ran) for _ in range(x))\n",
    "    return zip(*enumerate(raw))"
   ]
  },
  {
   "cell_type": "code",
   "execution_count": 3,
   "metadata": {
    "collapsed": false,
    "deletable": true,
    "editable": true,
    "scrolled": false
   },
   "outputs": [
    {
     "name": "stdout",
     "output_type": "stream",
     "text": [
      "The history saving thread hit an unexpected error (OperationalError('database is locked',)).History will not be written to the database.\n"
     ]
    },
    {
     "data": {
      "image/png": "[encoded data removed]",
      "text/plain": [
       "<matplotlib.figure.Figure at 0x1b457e98f98>"
      ]
     },
     "metadata": {},
     "output_type": "display_data"
    }
   ],
   "source": [
    "fig = plt.figure(figsize=(17,9))\n",
    "\n",
    "X, Y = generate_data()\n",
    "plt.scatter(X,Y, label=\"Scatter Plot\", color='k',marker=\"p\")\n",
    "\n",
    "plt.xlabel('x')\n",
    "plt.ylabel('y')\n",
    "plt.title('Scatter Plot')\n",
    "plt.legend()\n",
    "\n",
    "# Plotting\n",
    "plt.grid(True)\n",
    "plt.show()"
   ]
  },
  {
   "cell_type": "markdown",
   "metadata": {
    "deletable": true,
    "editable": true
   },
   "source": [
    "## Markers for Scatter Plot"
   ]
  },
  {
   "cell_type": "code",
   "execution_count": 4,
   "metadata": {
    "collapsed": false,
    "deletable": true,
    "editable": true,
    "scrolled": false
   },
   "outputs": [
    {
     "data": {
      "text/html": [
       "<iframe src=\"http://matplotlib.org/api/markers_api.html\" width=\"980\" height=\"1000\"></iframe>"
      ],
      "text/plain": [
       "<IPython.core.display.HTML object>"
      ]
     },
     "metadata": {},
     "output_type": "display_data"
    }
   ],
   "source": [
    "%%HTML\n",
    "<iframe src=\"http://matplotlib.org/api/markers_api.html\" width=\"980\" height=\"1000\"></iframe>"
   ]
  },
  {
   "cell_type": "markdown",
   "metadata": {
    "deletable": true,
    "editable": true
   },
   "source": [
    "<h2><div style=\"float:left; text-align:left; width:*;line-height: 150%\">\n",
    "Previous Part:<br>[Bar Charts and Histograms](Matplotlib Tutorial Part 03 - Bar Charts and Histograms.ipynb)\n",
    "</div> \n",
    "<div style=\"float:right; text-align:right; width:*;line-height: 150%\">\n",
    "Next Part:<br>[Stack Plots](Matplotlib Tutorial Part 05 - Stack Plots.ipynb)\n",
    "</div>\n",
    "<div style='margin: 0 auto; text-align:center; width:190px;line-height: 150%' >\n",
    "[Table of Contents](Table of Contents.ipynb)\n",
    "</div></h2>"
   ]
  }
 ],
 "metadata": {
  "kernelspec": {
   "display_name": "Python 3",
   "language": "python",
   "name": "python3"
  },
  "language_info": {
   "codemirror_mode": {
    "name": "ipython",
    "version": 3
   },
   "file_extension": ".py",
   "mimetype": "text/x-python",
   "name": "python",
   "nbconvert_exporter": "python",
   "pygments_lexer": "ipython3",
   "version": "3.5.1"
  }
 },
 "nbformat": 4,
 "nbformat_minor": 2
}
