{
 "cells": [
  {
   "cell_type": "markdown",
   "metadata": {
    "ExecuteTime": {
     "end_time": "2018-12-20T20:55:27.808600Z",
     "start_time": "2018-12-20T20:55:27.802600Z"
    }
   },
   "source": [
    "<div style=\"width:100%; font-size:16pt; font-weight:bold;\">\n",
    "    <span style=\"position: absolute;top: 0;left: 10%; text-align:left\">Previous:<br><br><a href=\"Matplotlib Tutorial Part 03 - Bar Charts and Histograms.ipynb\">Bar Charts and Histograms</a></span>\n",
    "    <span style=\"position: absolute;top: 30%;left: 45%;\"><a href=\"Table of Contents.ipynb\" >Table of Contents</a></span>\n",
    "    <span style=\"position: absolute;top: 0; text-align:right; left: 88%;\">Next:<br><br><a href=\"Matplotlib Tutorial Part 05 - Stack Plots.ipynb\">Stack Plots</a></span>\n",
    "</div>\n",
    "<br>\n",
    "<br>\n",
    "<br>"
   ]
  },
  {
   "cell_type": "markdown",
   "metadata": {},
   "source": [
    "<h1><center>Matplotlib Tutorial Part 04 - Scatter Plots</center></h1>"
   ]
  },
  {
   "cell_type": "markdown",
   "metadata": {
    "ExecuteTime": {
     "end_time": "2018-12-20T20:52:25.287894Z",
     "start_time": "2018-12-20T20:52:25.281894Z"
    }
   },
   "source": [
    "## Source\n",
    "This notebook was created by **Ezequiel Castaño** and the materials and idea of the tutorial was inspired and based on the **Sentdex** original tutorial series. Here is the source video"
   ]
  },
  {
   "cell_type": "code",
   "execution_count": 1,
   "metadata": {
    "ExecuteTime": {
     "end_time": "2018-12-20T21:11:27.716532Z",
     "start_time": "2018-12-20T21:11:27.698533Z"
    }
   },
   "outputs": [
    {
     "data": {
      "text/html": [
       "<center>\n",
       "<iframe width=\"960\" height=\"540\" frameborder=\"0\" allowfullscreen src=\"https://www.youtube.com/embed/WbTOutpwPHs\"></iframe>\n",
       "</center>"
      ],
      "text/plain": [
       "<IPython.core.display.HTML object>"
      ]
     },
     "metadata": {},
     "output_type": "display_data"
    }
   ],
   "source": [
    "%%HTML\n",
    "<center>\n",
    "<iframe width=\"960\" height=\"540\" frameborder=\"0\" allowfullscreen src=\"https://www.youtube.com/embed/WbTOutpwPHs\"></iframe>\n",
    "</center>"
   ]
  },
  {
   "cell_type": "markdown",
   "metadata": {},
   "source": [
    "# Necessary Imports"
   ]
  },
  {
   "cell_type": "code",
   "execution_count": 2,
   "metadata": {
    "ExecuteTime": {
     "end_time": "2018-12-20T21:11:28.152531Z",
     "start_time": "2018-12-20T21:11:27.719532Z"
    }
   },
   "outputs": [],
   "source": [
    "from random import randint\n",
    "import matplotlib.pyplot as plt\n",
    "\n",
    "%matplotlib inline"
   ]
  },
  {
   "cell_type": "markdown",
   "metadata": {},
   "source": [
    "## Data Generations Function"
   ]
  },
  {
   "cell_type": "code",
   "execution_count": 3,
   "metadata": {
    "ExecuteTime": {
     "end_time": "2018-12-20T21:11:28.160527Z",
     "start_time": "2018-12-20T21:11:28.154527Z"
    }
   },
   "outputs": [],
   "source": [
    "def generate_data(x=10, ran=9):\n",
    "    raw = (randint(0, ran) for _ in range(x))\n",
    "    return zip(*enumerate(raw))"
   ]
  },
  {
   "cell_type": "code",
   "execution_count": 4,
   "metadata": {
    "ExecuteTime": {
     "end_time": "2018-12-20T21:11:28.521522Z",
     "start_time": "2018-12-20T21:11:28.163527Z"
    },
    "scrolled": false
   },
   "outputs": [
    {
     "data": {
      "image/png": "[encoded data removed]",
      "text/plain": [
       "<Figure size 1224x648 with 1 Axes>"
      ]
     },
     "metadata": {},
     "output_type": "display_data"
    }
   ],
   "source": [
    "X, Y = generate_data()\n",
    "\n",
    "plt.figure(figsize=(17, 9))\n",
    "plt.scatter(X, Y, label=\"Scatter Plot\", color='k', marker=\"p\")\n",
    "\n",
    "plt.xlabel('x')\n",
    "plt.ylabel('y')\n",
    "plt.title('Scatter Plot')\n",
    "plt.legend()\n",
    "\n",
    "# Plotting\n",
    "plt.grid(True)\n",
    "plt.show()"
   ]
  },
  {
   "cell_type": "markdown",
   "metadata": {},
   "source": [
    "## Markers for Scatter Plot"
   ]
  },
  {
   "cell_type": "code",
   "execution_count": 5,
   "metadata": {
    "ExecuteTime": {
     "end_time": "2018-12-20T21:11:28.529522Z",
     "start_time": "2018-12-20T21:11:28.523522Z"
    },
    "scrolled": false
   },
   "outputs": [
    {
     "data": {
      "text/html": [
       "<iframe src=\"http://matplotlib.org/api/markers_api.html\" width=\"980\" height=\"1000\"></iframe>"
      ],
      "text/plain": [
       "<IPython.core.display.HTML object>"
      ]
     },
     "metadata": {},
     "output_type": "display_data"
    }
   ],
   "source": [
    "%%HTML\n",
    "<iframe src=\"http://matplotlib.org/api/markers_api.html\" width=\"980\" height=\"1000\"></iframe>"
   ]
  },
  {
   "cell_type": "markdown",
   "metadata": {
    "ExecuteTime": {
     "end_time": "2018-12-20T20:55:27.808600Z",
     "start_time": "2018-12-20T20:55:27.802600Z"
    }
   },
   "source": [
    "<div style=\"width:100%; font-size:16pt; font-weight:bold;\">\n",
    "    <span style=\"position: absolute;top: 0;left: 10%; text-align:left\">Previous:<br><br><a href=\"Matplotlib Tutorial Part 03 - Bar Charts and Histograms.ipynb\">Bar Charts and Histograms</a></span>\n",
    "    <span style=\"position: absolute;top: 30%;left: 45%;\"><a href=\"Table of Contents.ipynb\" >Table of Contents</a></span>\n",
    "    <span style=\"position: absolute;top: 0; text-align:right; left: 88%;\">Next:<br><br><a href=\"Matplotlib Tutorial Part 05 - Stack Plots.ipynb\">Stack Plots</a></span>\n",
    "</div>\n",
    "<br>\n",
    "<br>\n",
    "<br>"
   ]
  }
 ],
 "metadata": {
  "kernelspec": {
   "display_name": "Python 3",
   "language": "python",
   "name": "python3"
  },
  "language_info": {
   "codemirror_mode": {
    "name": "ipython",
    "version": 3
   },
   "file_extension": ".py",
   "mimetype": "text/x-python",
   "name": "python",
   "nbconvert_exporter": "python",
   "pygments_lexer": "ipython3",
   "version": "3.6.5"
  }
 },
 "nbformat": 4,
 "nbformat_minor": 2
}
