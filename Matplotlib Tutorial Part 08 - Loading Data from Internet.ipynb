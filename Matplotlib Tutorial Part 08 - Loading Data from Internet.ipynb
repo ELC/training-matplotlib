{
 "cells": [
  {
   "cell_type": "markdown",
   "metadata": {},
   "source": [
    "<div style=\"width:100%; font-size:16pt; font-weight:bold;\">\n",
    "    <span style=\"position: absolute;top: 0;left: 10%; text-align:left\">Previous:<br><br><a href=\"Matplotlib Tutorial Part 07 - Loading Data from Files.ipynb\">Loading Data from Files</a></span>\n",
    "    <span style=\"position: absolute;top: 30%;left: 45%;\"><a href=\"Table of Contents.ipynb\" >Table of Contents</a></span>\n",
    "    <span style=\"position: absolute;top: 0; text-align:right; left: 85%;\">Next:<br><br><a href=\"Matplotlib Tutorial Part 09 - Customization.ipynb\">Customization</a></span>\n",
    "</div>\n",
    "<br>\n",
    "<br>\n",
    "<br>"
   ]
  },
  {
   "cell_type": "markdown",
   "metadata": {},
   "source": [
    "<h1><center>Matplotlib Tutorial Part 08 - Loading Data from Internet (NOT WORKING)</center></h1>"
   ]
  },
  {
   "cell_type": "markdown",
   "metadata": {},
   "source": [
    "## Source\n",
    "This notebook was created by **Ezequiel Castaño** and the materials and idea of the tutorial was inspired and based on the **Sentdex** original tutorial series. Here is the source video"
   ]
  },
  {
   "cell_type": "code",
   "execution_count": 1,
   "metadata": {
    "ExecuteTime": {
     "end_time": "2018-12-20T21:27:08.351749Z",
     "start_time": "2018-12-20T21:27:08.336750Z"
    }
   },
   "outputs": [
    {
     "data": {
      "text/html": [
       "<center>\n",
       "<iframe width=\"960\" height=\"540\" frameborder=\"0\" allowfullscreen src=\"https://www.youtube.com/embed/IbUa1tTT-7k\"></iframe>\n",
       "</center>"
      ],
      "text/plain": [
       "<IPython.core.display.HTML object>"
      ]
     },
     "metadata": {},
     "output_type": "display_data"
    }
   ],
   "source": [
    "%%HTML\n",
    "<center>\n",
    "<iframe width=\"960\" height=\"540\" frameborder=\"0\" allowfullscreen src=\"https://www.youtube.com/embed/IbUa1tTT-7k\"></iframe>\n",
    "</center>"
   ]
  },
  {
   "cell_type": "markdown",
   "metadata": {},
   "source": [
    "# Necessary Imports"
   ]
  },
  {
   "cell_type": "code",
   "execution_count": 2,
   "metadata": {
    "ExecuteTime": {
     "end_time": "2018-12-20T21:27:10.283730Z",
     "start_time": "2018-12-20T21:27:09.889730Z"
    }
   },
   "outputs": [],
   "source": [
    "import urllib\n",
    "import matplotlib.pyplot as plt\n",
    "import matplotlib.dates as mdates\n",
    "import numpy as np\n",
    "\n",
    "\n",
    "%matplotlib inline\n",
    "\n",
    "stock = \"EBAY\""
   ]
  },
  {
   "cell_type": "markdown",
   "metadata": {},
   "source": [
    "## Data Conversion Function"
   ]
  },
  {
   "cell_type": "code",
   "execution_count": 3,
   "metadata": {
    "ExecuteTime": {
     "end_time": "2018-12-20T21:22:52.064453Z",
     "start_time": "2018-12-20T21:22:52.057453Z"
    }
   },
   "outputs": [],
   "source": [
    "# Not needed in Python2.7\n",
    "def bytespdate2num(fmt, encoding='utf-8'):\n",
    "    strconverter = mdates.strpdate2num(fmt)\n",
    "\n",
    "    def bytesconverter(b):\n",
    "        s = b.decode(encoding)\n",
    "        return strconverter(s)\n",
    "    return bytesconverter"
   ]
  },
  {
   "cell_type": "markdown",
   "metadata": {},
   "source": [
    "## Getting and Cleaning data"
   ]
  },
  {
   "cell_type": "code",
   "execution_count": null,
   "metadata": {
    "ExecuteTime": {
     "end_time": "2018-12-20T21:23:16.268150Z",
     "start_time": "2018-12-20T21:23:16.000152Z"
    }
   },
   "outputs": [],
   "source": [
    "# Yahoo Finance API\n",
    "stock_price_url = 'http://chartapi.finance.yahoo.com/instrument/1.0/' +stock+ '/chartdata;type=quote;range=10y/csv'\n",
    "\n",
    "# Getting Data from Yahoo Finance API\n",
    "source_code = urllib.request.urlopen(stock_price_url).read().decode()\n",
    "\n",
    "# Cleaning Data\n",
    "stock_data = []    \n",
    "split_source = source_code.split('\\n')\n",
    "\n",
    "for line in split_source:\n",
    "    split_line = line.split(',')\n",
    "    if len(split_line) == 6:\n",
    "        if 'values' not in line and 'labels' not in line:\n",
    "            stock_data.append(line)\n",
    "\n",
    "# Unpacking Data\n",
    "date, closep, highp, lowp, openp, volume = np.loadtxt(stock_data,\n",
    "                                                      delimiter=',',\n",
    "                                                      unpack=True,\n",
    "                                                      )"
   ]
  },
  {
   "cell_type": "markdown",
   "metadata": {},
   "source": [
    "## Plotting Points"
   ]
  },
  {
   "cell_type": "code",
   "execution_count": null,
   "metadata": {
    "ExecuteTime": {
     "end_time": "2018-12-20T21:22:52.681446Z",
     "start_time": "2018-12-20T21:22:51.628Z"
    }
   },
   "outputs": [],
   "source": [
    "fig = plt.figure(figsize=(17,9))\n",
    "\n",
    "# Plotting\n",
    "plt.plot_date(date, closep,\".\")\n",
    "\n",
    "plt.xlabel('Date')\n",
    "plt.ylabel('Price')\n",
    "plt.title(stock)\n",
    "\n",
    "plt.grid(True)\n",
    "plt.show()"
   ]
  },
  {
   "cell_type": "markdown",
   "metadata": {},
   "source": [
    "## Plotting Lines"
   ]
  },
  {
   "cell_type": "code",
   "execution_count": null,
   "metadata": {
    "ExecuteTime": {
     "end_time": "2018-12-20T21:22:52.683446Z",
     "start_time": "2018-12-20T21:22:51.632Z"
    }
   },
   "outputs": [],
   "source": [
    "fig = plt.figure(figsize=(17,9))\n",
    "\n",
    "# Plotting\n",
    "plt.plot_date(date, closep,\"-\")\n",
    "\n",
    "plt.xlabel('Date')\n",
    "plt.ylabel('Price')\n",
    "plt.title(stock)\n",
    "\n",
    "plt.grid(True)\n",
    "plt.show()"
   ]
  },
  {
   "cell_type": "markdown",
   "metadata": {},
   "source": [
    "<div style=\"width:100%; font-size:16pt; font-weight:bold;\">\n",
    "    <span style=\"position: absolute;top: 0;left: 10%; text-align:left\">Previous:<br><br><a href=\"Matplotlib Tutorial Part 07 - Loading Data from Files.ipynb\">Loading Data from Files</a></span>\n",
    "    <span style=\"position: absolute;top: 30%;left: 45%;\"><a href=\"Table of Contents.ipynb\" >Table of Contents</a></span>\n",
    "    <span style=\"position: absolute;top: 0; text-align:right; left: 85%;\">Next:<br><br><a href=\"Matplotlib Tutorial Part 09 - Customization.ipynb\">Customization</a></span>\n",
    "</div>\n",
    "<br>\n",
    "<br>\n",
    "<br>"
   ]
  }
 ],
 "metadata": {
  "kernelspec": {
   "display_name": "Python 3",
   "language": "python",
   "name": "python3"
  },
  "language_info": {
   "codemirror_mode": {
    "name": "ipython",
    "version": 3
   },
   "file_extension": ".py",
   "mimetype": "text/x-python",
   "name": "python",
   "nbconvert_exporter": "python",
   "pygments_lexer": "ipython3",
   "version": "3.6.5"
  }
 },
 "nbformat": 4,
 "nbformat_minor": 2
}
