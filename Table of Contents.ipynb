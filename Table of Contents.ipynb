{
 "cells": [
  {
   "cell_type": "markdown",
   "metadata": {
    "deletable": true,
    "editable": true
   },
   "source": [
    "# Matplotlib"
   ]
  },
  {
   "cell_type": "markdown",
   "metadata": {
    "deletable": true,
    "editable": true
   },
   "source": [
    "## Index of Contents"
   ]
  },
  {
   "cell_type": "markdown",
   "metadata": {
    "deletable": true,
    "editable": true
   },
   "source": [
    "1. ### [Introduction and Line](Matplotlib Tutorial Part 01 - Introduction and Line.ipynb)\n",
    "1. ### [Legends titles and labels](Matplotlib Tutorial Part 02 - Legends titles and labels.ipynb)\n",
    "1. ### [Bar Charts and Histograms](Matplotlib Tutorial Part 03 - Bar Charts and Histograms.ipynb)\n",
    "1. ### [Scatter Plots](Matplotlib Tutorial Part 04 - Scatter Plots.ipynb)\n",
    "1. ### [Stack Plots](Matplotlib Tutorial Part 05 - Stack Plots.ipynb)\n",
    "1. ### [Pie Charts](Matplotlib Tutorial Part 06 - Pie Charts.ipynb)\n",
    "1. ### [Loading Data from Files](Matplotlib Tutorial Part 07 - Loading Data from Files.ipynb)\n",
    "1. ### [Loading Data from Internet](Matplotlib Tutorial Part 08 - Loading Data from Internet.ipynb)\n",
    "1. ### [Customization](Matplotlib Tutorial Part 09 - Customization.ipynb)\n",
    "1. ### [Handling Unix Time](Matplotlib Tutorial Part 10 - Handling Unix Time.ipynb)\n",
    "1. ### [Candlestick OHLC Graph](Matplotlib Tutorial Part 11 - Candlestick OHLC Graph.ipynb)\n",
    "1. ### [Styles](Matplotlib Tutorial Part 12 - Styles.ipynb)\n",
    "1. ### [Live Graph](Matplotlib Tutorial Part 13 - Live Graph.ipynb)\n",
    "1. ### [Annotations and Placing Text](Matplotlib Tutorial Part 14 - Annotations and Placing Text.ipynb)\n",
    "1. ### [Subplots](Matplotlib Tutorial Part 15 - Subplots.ipynb)\n",
    "1. ### [Subplot and Stock](Matplotlib Tutorial Part 16 - Subplot and Stock.ipynb)\n"
   ]
  }
 ],
 "metadata": {
  "kernelspec": {
   "display_name": "Python 3",
   "language": "python",
   "name": "python3"
  },
  "language_info": {
   "codemirror_mode": {
    "name": "ipython",
    "version": 3
   },
   "file_extension": ".py",
   "mimetype": "text/x-python",
   "name": "python",
   "nbconvert_exporter": "python",
   "pygments_lexer": "ipython3",
   "version": "3.5.1"
  }
 },
 "nbformat": 4,
 "nbformat_minor": 2
}
