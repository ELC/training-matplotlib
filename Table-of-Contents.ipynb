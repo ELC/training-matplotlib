{
 "cells": [
  {
   "cell_type": "markdown",
   "metadata": {},
   "source": [
    "# Matplotlib"
   ]
  },
  {
   "cell_type": "markdown",
   "metadata": {},
   "source": [
    "## Index of Contents"
   ]
  },
  {
   "cell_type": "markdown",
   "metadata": {},
   "source": [
    "1. [Introduction and Line](Matplotlib Tutorial Part 01 - Introduction and Line.ipynb)\n",
    "2. [Legends titles and labels](Matplotlib Tutorial Part 02 - Legends titles and labels.ipynb)\n",
    "3. [Bar Charts and Histograms](Matplotlib Tutorial Part 03 - Bar Charts and Histograms.ipynb)\n",
    "4. [Scatter Plots](Matplotlib Tutorial Part 04 - Scatter Plots.ipynb)\n",
    "5. [Stack Plots](Matplotlib Tutorial Part 05 - Stack Plots.ipynb)\n",
    "6. [Pie Charts](Matplotlib Tutorial Part 06 - Pie Charts.ipynb)\n",
    "7. [Loading Data from Files](Matplotlib Tutorial Part 07 - Loading Data from Files.ipynb)\n",
    "8. [Loading Data from Internet](Matplotlib Tutorial Part 08 - Loading Data from Internet.ipynb)\n",
    "9. [Customization](Matplotlib Tutorial Part 09 - Customization.ipynb)\n",
    "10. [Handling Unix Time](Matplotlib Tutorial Part 10 - Handling Unix Time.ipynb)\n",
    "11. [Candlestick OHLC Graph](Matplotlib Tutorial Part 11 - Candlestick OHLC Graph.ipynb)\n",
    "12. [Styles](Matplotlib Tutorial Part 12 - Styles.ipynb)\n",
    "13. [Live Graph](Matplotlib Tutorial Part 13 - Live Graph.ipynb)\n",
    "14. [Annotations and Placing Text](Matplotlib Tutorial Part 14 - Annotations and Placing Text.ipynb)\n",
    "15. [Subplots](Matplotlib Tutorial Part 15 - Subplots.ipynb)\n",
    "16. [Subplot and Stock](Matplotlib Tutorial Part 16 - Subplot and Stock.ipynb)"
   ]
  }
 ],
 "metadata": {
  "kernelspec": {
   "display_name": "Python 3",
   "language": "python",
   "name": "python3"
  },
  "language_info": {
   "codemirror_mode": {
    "name": "ipython",
    "version": 3
   },
   "file_extension": ".py",
   "mimetype": "text/x-python",
   "name": "python",
   "nbconvert_exporter": "python",
   "pygments_lexer": "ipython3",
   "version": "3.5.1"
  }
 },
 "nbformat": 4,
 "nbformat_minor": 2
}
