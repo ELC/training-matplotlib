{
 "cells": [
  {
   "cell_type": "markdown",
   "metadata": {
    "deletable": true,
    "editable": true
   },
   "source": [
    "# Matplotlib Tutorial Part 8 - Loading Data from Internet"
   ]
  },
  {
   "cell_type": "code",
   "execution_count": 2,
   "metadata": {
    "collapsed": true,
    "deletable": true,
    "editable": true
   },
   "outputs": [],
   "source": [
    "%matplotlib inline\n",
    "import matplotlib.pyplot as plt\n",
    "import numpy as np"
   ]
  },
  {
   "cell_type": "code",
   "execution_count": null,
   "metadata": {
    "collapsed": true
   },
   "outputs": [],
   "source": [
    "import urllib\n",
    "import matplotlib.dates asd mdates\n",
    "\n",
    "def graph_data(stock):\n",
    "    \n",
    "    stock_price_url = 'http://chartapi.finance.yahoo.com/instrument/1.0/' +stock+ '/chartdata;type=quote;range=10y/csv'﻿\n",
    "    \n",
    "    source_code = utllib.request.urlopen(stock_price_url).read().decode()\n",
    "    \n",
    "    stocl_data = []    \n",
    "    split_source = cource_code.split('\\n')\n",
    "    \n",
    "    for line in split_source:\n",
    "        split_line = line.split(',')\n",
    "        if len(split_line) == 6:\n",
    "            if 'values' not in line:\n",
    "                stock_data.append(line)\n",
    "                \n",
    "    date, closep, highp, lowp, openp, volume = np.loadtxt(stocl_data,\n",
    "                                                          delimiter=',',\n",
    "                                                          unpack=True,                            \n",
    "                                                          converters={0: bytespdate2num('%Y%m%d')})\n",
    "    \n",
    "    plt.xlabel('x')\n",
    "    plt.ylabel('y')\n",
    "    plt.title('Stack Plots')\n",
    "    plt.legend()\n",
    "\n",
    "graph_data('TSLA')"
   ]
  }
 ],
 "metadata": {
  "kernelspec": {
   "display_name": "Python 3",
   "language": "python",
   "name": "python3"
  },
  "language_info": {
   "codemirror_mode": {
    "name": "ipython",
    "version": 3
   },
   "file_extension": ".py",
   "mimetype": "text/x-python",
   "name": "python",
   "nbconvert_exporter": "python",
   "pygments_lexer": "ipython3",
   "version": "3.5.1"
  }
 },
 "nbformat": 4,
 "nbformat_minor": 2
}
